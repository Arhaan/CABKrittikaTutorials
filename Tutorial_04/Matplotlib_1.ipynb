{
 "cells": [
  {
   "cell_type": "markdown",
   "metadata": {},
   "source": [
    "# Matplotlib I: Introduction to `pyplot`\n",
    "\n",
    "Whenever you have a set of data, it is always a good idea to represent that data graphically. If it's a simple function, a simple y vs x plot can reveal a lot about that function, such as whether the function is convex or concave. If you have something like a counter which counts a certain event for some time periodically, a histogram will tell you if your data follows [Poissonian stastics](https://en.wikipedia.org/wiki/Poisson_distribution). A lot can be found out about your system just by looking at the plots obtained from the data.\n",
    "\n",
    "`matplotlib.pyplot` allows you to plot all kinds of plots and also provides tools to make your plot pretty. In this tutorial we will learn the basics of this library."
   ]
  },
  {
   "cell_type": "code",
   "execution_count": null,
   "metadata": {},
   "outputs": [],
   "source": [
    "import matplotlib.pyplot as plt"
   ]
  },
  {
   "cell_type": "markdown",
   "metadata": {},
   "source": [
    "This imports `matplotlib.pyplot` and renames it as `plt` for this program. We will also import `numpy` for this tutorial as it always comes in handy. It is also a good idea to convert numerical arrays to numpy arrays."
   ]
  },
  {
   "cell_type": "code",
   "execution_count": null,
   "metadata": {},
   "outputs": [],
   "source": [
    "import numpy as np"
   ]
  },
  {
   "cell_type": "markdown",
   "metadata": {},
   "source": [
    "Let us plot something"
   ]
  },
  {
   "cell_type": "code",
   "execution_count": null,
   "metadata": {},
   "outputs": [],
   "source": [
    "plt.plot([2,4,6,8,10,12]) #The array contains the y-axis points. If no other array is given, it is assumed that\n",
    "                          #the x-axis is of the type [0,1,2,3,4,...] with the same size as the y-axis array\n",
    "plt.show() # Show the plot"
   ]
  },
  {
   "cell_type": "code",
   "execution_count": null,
   "metadata": {},
   "outputs": [],
   "source": [
    "%matplotlib inline"
   ]
  },
  {
   "cell_type": "markdown",
   "metadata": {},
   "source": [
    "%matplotlib is a [magic function](http://ipython.readthedocs.io/en/stable/interactive/tutorial.html#magics-explained) in Python. %matplotlib inline [sets the backend of matplotlib to the 'inline' backend](http://ipython.readthedocs.io/en/stable/interactive/plotting.html). With this backend, the output of plotting commands is displayed inline within frontends, directly below the code cell that produced it. The resulting plots will then also be stored in the notebook document. \n",
    "\n",
    "Depending on your system, this command is required so you don't always need to use `plt.show()`. Note that this is only for the Jupyter notebook; it won't work on the terminal."
   ]
  },
  {
   "cell_type": "code",
   "execution_count": null,
   "metadata": {},
   "outputs": [],
   "source": [
    "# Let's now give an x-axis to our plot\n",
    "# The syntax is plt.plot(x-axis,y-axis)\n",
    "plt.plot([2,5,8,10],[1,3,2,6])"
   ]
  },
  {
   "cell_type": "code",
   "execution_count": null,
   "metadata": {},
   "outputs": [],
   "source": [
    "# We can label our graph\n",
    "plt.plot([2,5,8,10],[1,3,2,6])\n",
    "plt.xlabel('some numbers') # Labels the x-axis\n",
    "plt.ylabel('some more numbers') # Labels the y-axis"
   ]
  },
  {
   "cell_type": "markdown",
   "metadata": {},
   "source": [
    "What happens when the number of points on your x-axis is not equal to the number of points on your y-axis? Find out for yourself!"
   ]
  },
  {
   "cell_type": "markdown",
   "metadata": {},
   "source": [
    "### Formating the style of your plot\n",
    "\n",
    "For every (x, y) pair of arguments, there is an optional third argument which is the format string that indicates the color and line type of the plot. The letters and symbols of the format string are from MATLAB, and you concatenate a color string with a line style string. The default format string is 'b-', which is a solid blue line. For example, to plot the above with red circles, you would issue"
   ]
  },
  {
   "cell_type": "code",
   "execution_count": null,
   "metadata": {},
   "outputs": [],
   "source": [
    "plt.plot([2,5,8,10],[1,3,2,6],'ro')\n",
    "plt.xlabel('some numbers') # Labels the x-axis\n",
    "plt.ylabel('some other numbers') # Labels the y-axis"
   ]
  },
  {
   "cell_type": "markdown",
   "metadata": {},
   "source": [
    "If you are not a fan of MATLAB, you can also replicate the above result by using the keyword arguments `color='red', marker='o'` respectively. As you can imagine, there are several keyword arguments for plots"
   ]
  },
  {
   "cell_type": "code",
   "execution_count": null,
   "metadata": {},
   "outputs": [],
   "source": [
    "# You can define the range of your axes with the help of xlim and ylim command\n",
    "plt.plot([2,5,8,10],[1,3,2,6],'ro')\n",
    "plt.xlabel('some numbers')\n",
    "plt.ylabel('some other numbers')\n",
    "plt.xlim(0,12)\n",
    "plt.ylim(0,8)"
   ]
  },
  {
   "cell_type": "markdown",
   "metadata": {},
   "source": [
    "See the [`plot()`](https://matplotlib.org/api/_as_gen/matplotlib.pyplot.plot.html#matplotlib.pyplot.plot) documentation for a complete list of line styles and format strings. You can also use the [`axis()`](https://matplotlib.org/api/_as_gen/matplotlib.pyplot.axis.html#matplotlib.pyplot.axis) command in place of `xlim()` and `ylim()`. The `axis()` command takes a list of `[xmin, xmax, ymin, ymax]` and specifies the viewport of the axes."
   ]
  },
  {
   "cell_type": "markdown",
   "metadata": {},
   "source": [
    "If `matplotlib` were limited to working with lists, it would be fairly useless for numeric processing. Generally, you will use numpy arrays. In fact, all sequences are converted to numpy arrays internally. The example below illustrates plotting several lines with different format styles in one command using arrays."
   ]
  },
  {
   "cell_type": "code",
   "execution_count": null,
   "metadata": {},
   "outputs": [],
   "source": [
    "t = np.arange(0,10,0.5) # Evenly sampled time at 0.5 second intervals\n",
    "\n",
    "plt.plot(t,t,'b--') # y = x: dashed blue\n",
    "plt.plot(t,t**2,'rs') # y = x^2: red squares\n",
    "plt.plot(t,t**3,'g^') # y = x^3: green triangles"
   ]
  },
  {
   "cell_type": "markdown",
   "metadata": {},
   "source": [
    "If you are plotting multiple functions on the same plot, you should label them. This can be done using the optional argument 'label' and then using the legend() command. For example:"
   ]
  },
  {
   "cell_type": "code",
   "execution_count": null,
   "metadata": {},
   "outputs": [],
   "source": [
    "# Find out more about the functions of plot command by running this\n",
    "plt.plot?"
   ]
  },
  {
   "cell_type": "code",
   "execution_count": null,
   "metadata": {},
   "outputs": [],
   "source": [
    "plt.plot(t,t,'b--',label='y=x') # y = x: dashed blue\n",
    "plt.plot(t,t**2,'rs',label='y=x^2') # y = x^2: red squares\n",
    "plt.plot(t,t**3,'g^',label='y=x^3') # y = x^3: green triangles\n",
    "plt.xlabel('x')\n",
    "plt.ylabel('y')\n",
    "plt.legend()"
   ]
  },
  {
   "cell_type": "code",
   "execution_count": null,
   "metadata": {},
   "outputs": [],
   "source": [
    "# If you don't know LaTeX, you can skip through this cell\n",
    "# If you do know LaTeX, you can use this here as label = r'(Normal_text)$(mathematical_part_in_Tex)$(Normal_text)'\n",
    "# For example:\n",
    "plt.plot(t,t,'b--',label='y=x') # y = x: dashed blue\n",
    "plt.plot(t,t**2,'rs',label=r'y=$x^{2}$') # y = x^2: red squares\n",
    "plt.plot(t,t**3,'g^',label=r'y=$x^{3}$') # y = x^3: green triangles\n",
    "plt.xlabel('x')\n",
    "plt.ylabel('y')\n",
    "plt.legend()"
   ]
  },
  {
   "cell_type": "markdown",
   "metadata": {},
   "source": [
    "We see that the y=x plot is just a flat line, at it does not represent the function. In this case we know the function, but in general, it's not necessary that we know the function our data is following. If you still want to plot all the three functions together, a better way will be to do that in a log-scale. The loglog() command allows you to do so:"
   ]
  },
  {
   "cell_type": "code",
   "execution_count": null,
   "metadata": {},
   "outputs": [],
   "source": [
    "# The loglog command sets the scale of both the axes to log scale\n",
    "plt.loglog(t,t,'b--',label='y=x') # y = x: dashed blue\n",
    "plt.loglog(t,t**2,'rs',label='y=x^2') # y = x^2: red squares\n",
    "plt.loglog(t,t**3,'g^',label='y=x^3') # y = x^3: green triangles\n",
    "plt.xlabel('x')\n",
    "plt.ylabel('y')\n",
    "plt.legend()"
   ]
  },
  {
   "cell_type": "markdown",
   "metadata": {},
   "source": [
    "If you want to make just one of the axes to have log scale, you can do so using the xscale('log') or yscale('log') command. Find out what other scales you can use using plt.xscale?"
   ]
  },
  {
   "cell_type": "code",
   "execution_count": null,
   "metadata": {},
   "outputs": [],
   "source": [
    "# An example:\n",
    "plt.plot(t,np.exp(t),label='Exponent') # Shouldn't use loglog if you are going to use xscale or yscale commands\n",
    "plt.yscale('log')\n",
    "plt.legend()"
   ]
  },
  {
   "cell_type": "markdown",
   "metadata": {},
   "source": [
    "### Bar graphs, Histograms and Scatter plots\n",
    "\n",
    "There's more than just simple y vs x plots you can make with pyplot. We'll first look at [bar graphs](https://en.wikipedia.org/wiki/Bar_chart)."
   ]
  },
  {
   "cell_type": "code",
   "execution_count": null,
   "metadata": {},
   "outputs": [],
   "source": [
    "names = ['a','b','c']\n",
    "values = np.random.randint(0,50,3)"
   ]
  },
  {
   "cell_type": "markdown",
   "metadata": {},
   "source": [
    "`random.randint(0,50,3)` gives a numpy array of size 3 with values lying between 0 and 50, all of them integers. Find out more about such functions [here](https://docs.scipy.org/doc/numpy-1.14.0/reference/routines.random.html)"
   ]
  },
  {
   "cell_type": "code",
   "execution_count": null,
   "metadata": {},
   "outputs": [],
   "source": [
    "plt.bar(names,values,color='r')\n",
    "plt.xlabel('Letter')\n",
    "plt.ylabel('Number')\n",
    "plt.title('Bar graph') # Gives a title to your plot"
   ]
  },
  {
   "cell_type": "markdown",
   "metadata": {},
   "source": [
    "Let us now make a [histogram](https://en.wikipedia.org/wiki/Histogram) by generating a lot of random numbers:"
   ]
  },
  {
   "cell_type": "code",
   "execution_count": null,
   "metadata": {},
   "outputs": [],
   "source": [
    "values = np.random.randn(5000)\n",
    "plt.hist(values)\n",
    "plt.xlabel('Number')\n",
    "plt.ylabel('No. of occurrances')\n",
    "plt.title('Histogram')"
   ]
  },
  {
   "cell_type": "markdown",
   "metadata": {},
   "source": [
    "`np.random.randn(n)` returns a numpy array of size n with a [gaussian probability distribution](https://en.wikipedia.org/wiki/Normal_distribution) having mean 0 and standard deviation 1."
   ]
  },
  {
   "cell_type": "markdown",
   "metadata": {},
   "source": [
    "Let us now plot a [scatter plot](https://en.wikipedia.org/wiki/Scatter_plot). We'll first generate points for our scatter plot and then make the plot"
   ]
  },
  {
   "cell_type": "code",
   "execution_count": null,
   "metadata": {},
   "outputs": [],
   "source": [
    "# Let us generate points using the sine and cosine curves. \n",
    "# We will add a bit of scatter to the sine and cosine curves in both x and y.\n",
    "x_values = np.random.randn(1000)\n",
    "y_values_1 = np.sin(np.pi*x_values) + 0.25*np.random.randn(1000)\n",
    "y_values_2 = np.cos(np.pi*x_values) + 0.25*np.random.randn(1000)\n",
    "\n",
    "plt.figure(figsize=(8,6)) # figsize specifies the size of the plot\n",
    "plt.scatter(x_values,y_values_1,s=1,color='darkorange',label='Sine')\n",
    "plt.scatter(x_values,y_values_2,s=1,color='indigo',label='Cosine') # You can plot more than one scatter plots \n",
    "                                                                   #  at once same as normal plots\n",
    "plt.xlabel('x')\n",
    "plt.ylabel('y')\n",
    "plt.title('Scatter Plot')\n",
    "plt.legend()\n",
    "\n",
    "# Use plt.scatter? to find out what s, color, label do and what else you can modify in you plot!"
   ]
  },
  {
   "cell_type": "markdown",
   "metadata": {},
   "source": [
    "We have reached the end of the tutorial part of this notebook. You should now be equipped to do some basic plotting on your own. It's important to know where to plot which kind of graph. If something is varying with time, you should use a normal data vs time plot (a [timeseries](https://en.wikipedia.org/wiki/Time_series)). If there's something you want a statistic of, like the number of decays from a radioactive material, you should use a histogram.\n",
    "\n",
    "Now that we have seen different kinds of plots (but not all) pyplot can do, let us put them to use."
   ]
  },
  {
   "cell_type": "markdown",
   "metadata": {},
   "source": [
    "### Your assignment ...\n",
    "\n",
    "...should you choose to accept it will be the following:\n",
    "\n",
    "The file GW_data_file.csv contains the timeseries and the frequency data of the first [Gravitational Wave](https://www.ligo.caltech.edu/page/what-are-gw) detection made by [LIGO](https://www.ligo.caltech.edu/page/ligo-gw-interferometer), [GW150914](https://en.wikipedia.org/wiki/First_observation_of_gravitational_waves). <br>The data file has 3 arrays:<br>\n",
    "a) the strain data, which is filtered, so you don't have to worry about noises, <br>\n",
    "b) the frequency of the data at that particular time (Not exactly), <br>\n",
    "c) the time. <br>\n",
    "You can import it using this code:\n",
    "```python\n",
    "data, freq, time = np.loadtxt('GW_data_file.csv',delimiter=',')\n",
    "```\n",
    "This will automatically give you the data, frequency and the time arrays.\n",
    "\n",
    "1. Your first task is to make two plots: <br>\n",
    "(a) strain vs time <br>\n",
    "(b) frequency vs time.\n",
    "\n",
    "2. You should notice something weird about the frequency plot. Why is it weird? Find out about it under the next section.\n",
    "\n",
    "3. Find out the indexes of [zero-crossings](https://en.wikipedia.org/wiki/Zero_crossing). Use the frequency and the time at these zero-crossings to make a frequency vs time scatter plot."
   ]
  },
  {
   "cell_type": "markdown",
   "metadata": {},
   "source": [
    "Remember to give your plots meaningful labels and a title. A grid may also help in certain parts of the assignment!"
   ]
  },
  {
   "cell_type": "markdown",
   "metadata": {},
   "source": [
    "# Gravitational Wave Astronomy\n",
    "\n",
    "Gravitational Waves are ripples in space-time, and their existence was proposed by Henri Poincaré in 1905, and were shortly after predicted by Albert Einstein in 1916 after he proposed his General Theory of Relativity. GW150914, the first gravitational wave detection by LIGO, was the first direct observation of these waves and another observation in favour of Einstein's theory.\n",
    "\n",
    "While the electromagnetic counterparts of an event can be blocked by things such as galaxies and nebulae, gravitational waves can't be. It's like listening to the universe's whisper, and opens the door for multi-messenger astronomy.\n",
    "\n",
    "GW150914 was caused by two Black Holes colliding. These systems are named Binary Black Holes (BBH) and are the most common sources of Gravitational Waves.\n",
    "\n",
    "Here's all you need to know about the data to complete the task:\n",
    "\n",
    "1. The strain data given to you is normalized. Otherwise the numbers 100 for strain don't make any sense. The actual scale of strain produced by gravitational waves is of the order of $10^{-18} \\rm Hz^{-1}$.\n",
    "2. The frequency data is not the frequency of gravitational waves at that particular time. For calculating frequency components of the given data, you try to get the fourier series of the data, but in this case we know (from General Relativity) that the frequency varies with time. So we divide the data into segments. These segments are defined by zero-crossings. We take each of these segments and do a fourier transform to know the frequency composition of the data. What you have been given in the frequency data is the frequency component having the highest amplitude for a given segment. That is why you see steps if you directly plot frequency vs time.\n",
    "3. The 0 mark in the time array is the merger time. There are three phases of a BBH collision, a) inspiral phase, b) the merger and c) the ringdown. Read about them [here](https://en.wikipedia.org/wiki/Binary_black_hole).\n",
    "4. If you feel like you can estimate at least some part of your frequency plot with a power law, you have nailed this exercise!"
   ]
  }
 ],
 "metadata": {
  "kernelspec": {
   "display_name": "Python 3",
   "language": "python",
   "name": "python3"
  },
  "language_info": {
   "codemirror_mode": {
    "name": "ipython",
    "version": 3
   },
   "file_extension": ".py",
   "mimetype": "text/x-python",
   "name": "python",
   "nbconvert_exporter": "python",
   "pygments_lexer": "ipython3",
   "version": "3.8.2"
  }
 },
 "nbformat": 4,
 "nbformat_minor": 2
}
