{
 "cells": [
  {
   "cell_type": "markdown",
   "metadata": {},
   "source": [
    "# Functions in Python\n",
    "\n",
    "Till now, we have seen quite a few functions (especially in [Tutorial 2](../Tutorial_02)). The question arises then on what exactly a fuction is and if we can define functions of our own. This tutorial will use what we have learnt of Python and Numpy and help us take it a step further with user defined functions. \n",
    "\n",
    "A function is simply a piece of code that performs a task, for which it might take some input(s) and might return some output(s) (This will of course depend on the task). The input (and the output) could be a number, an array, a string etc.\n",
    "\n",
    "So why do we need such a thing? If there is a function to evaluate a polynomial at a given point, then we can just code it normally. The answer is robustness. \n",
    "\n",
    "Apart from just being correct, codes should ideally be robust, efficient, easy to debug, and of course, self explanatory for someone else reading it. Functions are very important for acheiving all of the above, with utmost simplicity. Functions are also very useful if you want the same task to be performed repeatedly, with no changes, or maybe with minor modifications. For example, if you want to evaluate that polynomial repeatedly, then it is better to define a function to do so, otherwise simple typing mistakes in one of those lines might break your code. Or if you want to now change your polynomial coefficients, and you have 100 repetitions of the code, then you'll have to go line by line to each of those. \n",
    "\n",
    "**In short, functions eventually make your code easier to read and modify, and much easier to debug.**\n",
    "\n",
    "The following references should be useful:\n",
    "https://docs.python.org/3/tutorial/controlflow.html#defining-functions and https://scipy-lectures.org/intro/language/functions.html for exhaustive description on functions.\n",
    "And of course, Google."
   ]
  },
  {
   "cell_type": "markdown",
   "metadata": {},
   "source": [
    "**Important Note**: This tutorial is in 2 parts:\n",
    "1. Part 1 ([Functions_1](./Functions_1.ipynb)) deals with basics of function definition in Python. The assignment for the day is also in this notebook, and you should be able to finish the assignment with just this notebook\n",
    "2. Part 2 (this notebook)deals with the nuances of function definition, and can be thought of as a supplement to the main notebook. There may be issues that are discussed here which you might face in the future. So do take out some time to read through this part, just enough to recognise and understand the error messages and how you could proceed in debugging. \n"
   ]
  },
  {
   "cell_type": "code",
   "execution_count": null,
   "metadata": {},
   "outputs": [],
   "source": [
    "import numpy as np"
   ]
  },
  {
   "cell_type": "markdown",
   "metadata": {},
   "source": [
    "There are some special kinds of functions called recursive functions, which call themselves, which is illustrated by the following example:"
   ]
  },
  {
   "cell_type": "code",
   "execution_count": null,
   "metadata": {},
   "outputs": [],
   "source": [
    "def factorial(num):\n",
    "    if(num==1):\n",
    "        return 1\n",
    "    else:\n",
    "        return num*factorial(num-1)\n",
    "\n",
    "print(factorial(5))"
   ]
  },
  {
   "cell_type": "markdown",
   "metadata": {},
   "source": [
    "Its also possible to have recursive calling of the same function, as illustrated by the following example. Recursion is one of the most powerful tools in deterministic programming, and a lot of complex problems can be solved quite gracefully and easily through recursion. Those interested can have a look at a famous problem - [The Towers of Hanoi](https://www.cs.cmu.edu/~cburch/survey/recurse/hanoiimpl.html) solved very elegantly using recursion: "
   ]
  },
  {
   "cell_type": "markdown",
   "metadata": {},
   "source": [
    "Functions can change mutable values, like a list (however it cannot change a tuple, which is immutable)"
   ]
  },
  {
   "cell_type": "code",
   "execution_count": null,
   "metadata": {},
   "outputs": [],
   "source": [
    "def fibonacci(seed,n=6):\n",
    "    \"\"\"\n",
    "        Function accepts a seed list, and number of terms. \n",
    "        Note that we have put a default value on n, which means that giving n as an argument is optional now.\n",
    "        Such an argument is called a keyword argument.\n",
    "    \"\"\"\n",
    "    while(len(seed)<n):\n",
    "        seed.append(seed[-1]+seed[-2])\n",
    "\n",
    "seed = [1,1]\n",
    "fibonacci(seed)\n",
    "print(seed)"
   ]
  },
  {
   "cell_type": "code",
   "execution_count": null,
   "metadata": {},
   "outputs": [],
   "source": [
    "seed = [1,1] # Why have we re-defined this?\n",
    "fibonacci(seed,5) # we give a value for n, so now, the function uses that value instead\n",
    "print(seed)"
   ]
  },
  {
   "cell_type": "markdown",
   "metadata": {},
   "source": [
    "Note that in the previous example, we call the function to modify the array \"seed\". We are not printing the function output (in fact it does not return any output), rather we are printing the modified form of the array we started with."
   ]
  },
  {
   "cell_type": "code",
   "execution_count": null,
   "metadata": {},
   "outputs": [],
   "source": [
    "num = 5\n",
    "\n",
    "def square(x = num):\n",
    "    return x**2\n",
    "\n",
    "print(square())\n",
    "print(square(3))\n",
    "\n",
    "num = 7\n",
    "print(square())"
   ]
  },
  {
   "cell_type": "markdown",
   "metadata": {},
   "source": [
    "Thus from the above example, we learn an important lesson, that default values are evaluated only once, i.e. at the function definition, not during function calls. Thus, it becomes problematic and difficult to keep track when you use mutable objects (like list) as the default values and then you try to modify them inside the function body. An example is shown below. Note carefully what is happening."
   ]
  },
  {
   "cell_type": "code",
   "execution_count": null,
   "metadata": {},
   "outputs": [],
   "source": [
    "def add_to_list(mylist = [1,2]):\n",
    "    mylist[0] = mylist[0]+1\n",
    "    mylist[1] = mylist[1]+1\n",
    "    print(mylist)\n",
    "\n",
    "add_to_list()\n",
    "add_to_list()\n",
    "add_to_list()\n",
    "\n",
    "add_to_list([10,15])\n",
    "add_to_list()"
   ]
  },
  {
   "cell_type": "markdown",
   "metadata": {},
   "source": [
    "In the above example, mylist is a mutable object which is being given a default value. We modify this object inside the function body, and this modification is carried in successive function calls. Thus, such a practice should be avoided unless absolutely necessary."
   ]
  },
  {
   "cell_type": "markdown",
   "metadata": {},
   "source": [
    "Lets see some more examples of using required arguments and keyword arguments, and try to understand some subtle aspects."
   ]
  },
  {
   "cell_type": "code",
   "execution_count": null,
   "metadata": {},
   "outputs": [],
   "source": [
    "def fruits(num, color = \"red\", taste = \"sweet\"):\n",
    "    print(\"I am\", num, \"years old and I like fruits which are of\", color, \"color\", \"and taste\", taste)"
   ]
  },
  {
   "cell_type": "markdown",
   "metadata": {},
   "source": [
    "The above function has 1 required argument `num` and 2 keyword arguments. Lets try some function calls."
   ]
  },
  {
   "cell_type": "code",
   "execution_count": null,
   "metadata": {},
   "outputs": [],
   "source": [
    "fruits() #error(intentional): The required argument 'num' is missing"
   ]
  },
  {
   "cell_type": "code",
   "execution_count": null,
   "metadata": {},
   "outputs": [],
   "source": [
    "fruits(10) #correct function call, keyword arguments take default values"
   ]
  },
  {
   "cell_type": "code",
   "execution_count": null,
   "metadata": {},
   "outputs": [],
   "source": [
    "fruits(color = \"orange\") #error (intentional): The required argument 'num' is missing"
   ]
  },
  {
   "cell_type": "code",
   "execution_count": null,
   "metadata": {},
   "outputs": [],
   "source": [
    "fruits(8,\"green\") #correct function call,"
   ]
  },
  {
   "cell_type": "code",
   "execution_count": null,
   "metadata": {},
   "outputs": [],
   "source": [
    "fruits(color = \"green\", 8) #error(intentional)\n",
    "#in a function call, keyword arguments must follow positional (or required) arguments"
   ]
  },
  {
   "cell_type": "code",
   "execution_count": null,
   "metadata": {},
   "outputs": [],
   "source": [
    "fruits(8, \"sour\", \"green\") # order matters if keywords are not specified during function call\n",
    "fruits(8, taste = \"sour\", color = \"green\") # order does not matter if keywords are specified during function call"
   ]
  },
  {
   "cell_type": "code",
   "execution_count": null,
   "metadata": {},
   "outputs": [],
   "source": [
    "fruits(8, num = 10) #error (intentional): multiple values cannot be given for the same argument"
   ]
  },
  {
   "cell_type": "code",
   "execution_count": null,
   "metadata": {},
   "outputs": [],
   "source": [
    "fruits(8, smell = \"good\") #error (intentional): unknown keyword argument 'smell'"
   ]
  },
  {
   "cell_type": "markdown",
   "metadata": {},
   "source": [
    "You are encouraged to try out more examples yourself and get a grip on the application of required arguments and keyword arguments."
   ]
  },
  {
   "cell_type": "markdown",
   "metadata": {},
   "source": [
    "When variables are passed to a function in python, they are passed by value. That is the value of the variable is passed as an argument and not the variable itself. However note that mutable objects like Dictionaries, Lists etc. are passed by reference, that is the function can modify the object itself. The following examples makes this clear. "
   ]
  },
  {
   "cell_type": "code",
   "execution_count": null,
   "metadata": {},
   "outputs": [],
   "source": [
    "def add_to(x):\n",
    "    x = x+1\n",
    "    return x\n",
    "\n",
    "a = 10\n",
    "print(a)\n",
    "\n",
    "b = add_to(a)\n",
    "print(b)\n",
    "print(a)"
   ]
  },
  {
   "cell_type": "code",
   "execution_count": null,
   "metadata": {},
   "outputs": [],
   "source": [
    "def try_to_modify(my_list, x):\n",
    "    my_list.append(x)\n",
    "    return my_list\n",
    "\n",
    "my_list = [1,2]\n",
    "print(my_list)\n",
    "\n",
    "x = 10\n",
    "new_list = try_to_modify(my_list,x)\n",
    "\n",
    "print(new_list)\n",
    "print(my_list)"
   ]
  },
  {
   "cell_type": "markdown",
   "metadata": {},
   "source": [
    "Sometimes, you might want to use an already existing variable declared outsude the function body, inside your function. Such variables are called global variables."
   ]
  },
  {
   "cell_type": "code",
   "execution_count": null,
   "metadata": {},
   "outputs": [],
   "source": [
    "y = 5\n",
    "\n",
    "def adder(x):\n",
    "    x = x+y\n",
    "    return x\n",
    "    \n",
    "print(adder(20))"
   ]
  },
  {
   "cell_type": "markdown",
   "metadata": {},
   "source": [
    "Such 'global' variables can't be modified inside a function body, unless they are declared global inside the function. The following examples make it clear."
   ]
  },
  {
   "cell_type": "code",
   "execution_count": null,
   "metadata": {},
   "outputs": [],
   "source": [
    "y = 5\n",
    "\n",
    "def adder(x):\n",
    "    y = 10 # This y is not the same as the y outside the function.\n",
    "    x = x+y\n",
    "    return x\n",
    "\n",
    "print(adder(20))\n",
    "print(y)"
   ]
  },
  {
   "cell_type": "code",
   "execution_count": null,
   "metadata": {},
   "outputs": [],
   "source": [
    "y = 5\n",
    "\n",
    "def adder(x):\n",
    "    global y\n",
    "    y = 10 # This y is the same as the y outside the function\n",
    "    x = x+y\n",
    "    return x\n",
    "\n",
    "print(adder(20))\n",
    "print(y)"
   ]
  },
  {
   "cell_type": "markdown",
   "metadata": {},
   "source": [
    "You can use one function inside the body of another function as well, as illustrated in the following example."
   ]
  },
  {
   "cell_type": "code",
   "execution_count": null,
   "metadata": {},
   "outputs": [],
   "source": [
    "def operation_1(a,b):\n",
    "    return a**2 + b**2\n",
    "\n",
    "def operation_2(a,b):\n",
    "    return operation_1(a,b) + a + b\n",
    "\n",
    "print(operation_1(2,3))\n",
    "print(operation_2(2,3))"
   ]
  },
  {
   "cell_type": "markdown",
   "metadata": {},
   "source": [
    "Functions are treated as objects in python, i.e. they can be assigned to a variable, can be an item in a list, and can be passed as an argument to another function, as illustrated by the following examples."
   ]
  },
  {
   "cell_type": "code",
   "execution_count": null,
   "metadata": {},
   "outputs": [],
   "source": [
    "def operation_3(a,b):\n",
    "    return operation_2(operation_1(a,b),a)\n",
    "\n",
    "print(operation_1(2,3))\n",
    "print(operation_2(2,3))\n",
    "print(operation_3(2,3))"
   ]
  },
  {
   "cell_type": "code",
   "execution_count": null,
   "metadata": {},
   "outputs": [],
   "source": [
    "x = operation_1\n",
    "x"
   ]
  },
  {
   "cell_type": "code",
   "execution_count": null,
   "metadata": {},
   "outputs": [],
   "source": [
    "x(2,3)"
   ]
  },
  {
   "cell_type": "code",
   "execution_count": null,
   "metadata": {},
   "outputs": [],
   "source": [
    "mylist = [operation_1, operation_2, operation_3]\n",
    "mylist"
   ]
  },
  {
   "cell_type": "markdown",
   "metadata": {},
   "source": [
    "There are of course, many more intricacies to defining and using functions, but for now, we will stop here. Hopefully with this, you would have been comfortable with deciphering the various error messages, and trying to debug code. This is a skill that only increases with time, so keep going forward!!"
   ]
  }
 ],
 "metadata": {
  "kernelspec": {
   "display_name": "Python 3",
   "language": "python",
   "name": "python3"
  },
  "language_info": {
   "codemirror_mode": {
    "name": "ipython",
    "version": 3
   },
   "file_extension": ".py",
   "mimetype": "text/x-python",
   "name": "python",
   "nbconvert_exporter": "python",
   "pygments_lexer": "ipython3",
   "version": "3.8.3"
  }
 },
 "nbformat": 4,
 "nbformat_minor": 2
}
