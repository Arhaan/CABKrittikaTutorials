{
 "cells": [
  {
   "cell_type": "markdown",
   "metadata": {},
   "source": [
    "# Introduction to Python"
   ]
  },
  {
   "cell_type": "markdown",
   "metadata": {},
   "source": [
    "Python is one of the most widely used programming languages ([source](https://octoverse.github.com/#top-languages)), and for a reason. It is very easy to pick-up, extremely versatile (as you will see) and most importantly well supported.\n",
    "\n",
    "Our focus through these tutorials is not just to learn Python however. We are here to learn [Astro](https://cdn130.picsart.com/283094903006201.jpg?type=webp&to=min&r=640). So, each tutorial will introduce a new concept, important in scientific computing, along with an application in Astronomy and Astrophysics.\n",
    "\n",
    "Some more great resources:\n",
    "1. [The Python Wiki](https://wiki.python.org/moin/)\n",
    "2. [SciPy lecture notes](http://scipy-lectures.org/)\n",
    "3. [SciPy reference](https://docs.scipy.org/doc/scipy/reference/)\n",
    "4. [AstroPy Documentation](https://docs.astropy.org/en/stable/) "
   ]
  },
  {
   "cell_type": "markdown",
   "metadata": {},
   "source": [
    "Please note: This is meant to be an intensive 2 week long tutorial session. However, you are free to go ahead at your own pace. The tutorials will always be available at [github.com/krittikaiitb/tutorials](https://github.com/krittikaiitb/tutorials) and you can learn at your own time."
   ]
  },
  {
   "cell_type": "markdown",
   "metadata": {},
   "source": [
    "**Another Note** (I like notes): If you feel, at any point that you don't understand something, take a moment, relax and Google! The internet is your best friend when it comes to programming, and becoming self sufficient in your coding requires you to know how to google. So, don't worry if things feel a bit new; with some practice and a bit of tinkering around (you can do that in this environment very easily!), you will soon be ready to rumble..."
   ]
  },
  {
   "cell_type": "markdown",
   "metadata": {},
   "source": [
    "### By the end of this tutorial, you will have been introduced to Python, and parsed a file to find how many moons each planet has!"
   ]
  },
  {
   "cell_type": "markdown",
   "metadata": {},
   "source": [
    "Our first task on Python?\n",
    "Hello World!<br>\n",
    "(Note the [escape character](http://python-ds.com/python-3-escape-sequences))"
   ]
  },
  {
   "cell_type": "code",
   "execution_count": null,
   "metadata": {},
   "outputs": [],
   "source": [
    "print(\"The first thing we shall do is say\\nHello World!\")"
   ]
  },
  {
   "cell_type": "markdown",
   "metadata": {},
   "source": [
    "Print is a function (more on that later) that takes a string (that is the stuff enclosed in the double quotes) and displays it. <br>\n",
    "Of course, we can go quite crazy with just this"
   ]
  },
  {
   "cell_type": "code",
   "execution_count": null,
   "metadata": {},
   "outputs": [],
   "source": [
    "print(\"Hello\",\"World \\n\") # Python already puts a newline after each print(...) by default (this can be changed)\n",
    "print('Hello World\\n')    # BTW, this is how you comment :P\n",
    "print(\"Hello 'World'\\n\")\n",
    "print('\"Hello\" World\\n')\n",
    "print(\"'Hello' \\\"World\\\" \\n\")\n",
    "print('''Hello\n",
    "World''')"
   ]
  },
  {
   "cell_type": "markdown",
   "metadata": {},
   "source": [
    "With a bit of [string formatting](https://docs.python.org/3/library/string.html#format-string-syntax), you can make your print statements as customizable as you want."
   ]
  },
  {
   "cell_type": "code",
   "execution_count": null,
   "metadata": {},
   "outputs": [],
   "source": [
    "name = \"Krittika\"\n",
    "print(\"Hello, my name is %s\"% name)\n",
    "print(\"Hello, my name is {}\".format(name))\n",
    "print(f\"Hello, my name is {name}\") # Will only work in Python 3.6+"
   ]
  },
  {
   "cell_type": "markdown",
   "metadata": {},
   "source": [
    "And in that cell, we went ahead of ourselves a bit. What was that first line?"
   ]
  },
  {
   "cell_type": "code",
   "execution_count": null,
   "metadata": {},
   "outputs": [],
   "source": [
    "name = \"Krittika, The Astronomy Club of IIT Bombay\""
   ]
  },
  {
   "cell_type": "markdown",
   "metadata": {},
   "source": [
    "We are assigning a value (which is the string above) to a variable.<br>\n",
    "Of course, strings aren't all we can assign to variables. There are different data types in Python, which you can explore below:"
   ]
  },
  {
   "cell_type": "code",
   "execution_count": null,
   "metadata": {},
   "outputs": [],
   "source": [
    "integer = 1\n",
    "floating_point = 3.14\n",
    "complex_number = 3 + 4j\n",
    "boolean_variable = True"
   ]
  },
  {
   "cell_type": "code",
   "execution_count": null,
   "metadata": {},
   "outputs": [],
   "source": [
    "print(f'{type(complex_number)}') # Try to re-write this with .format() instead"
   ]
  },
  {
   "cell_type": "markdown",
   "metadata": {},
   "source": [
    "You can also use Python as a calculator!"
   ]
  },
  {
   "cell_type": "code",
   "execution_count": null,
   "metadata": {},
   "outputs": [],
   "source": [
    "a = 1 # Explore with different values of a and b. Try using a complex number!\n",
    "b = 2 # Try using a string!\n",
    "print(\"a+b = {}\".format(a+b))\n",
    "print(\"a-b = {}\".format(a-b))\n",
    "print(\"a*b = {}\".format(a*b))\n",
    "print(\"a/b = {}\".format(a/b))\n",
    "print(\"a//b = {}\".format(a//b))\n",
    "print(\"a//b = {}\".format(a//b))\n",
    "print(\"a**b = {}\".format(a**b))"
   ]
  },
  {
   "cell_type": "markdown",
   "metadata": {},
   "source": [
    "We have an idea of how to store a value now, and basic ways of manipulating it. However, what if we need to store many values?"
   ]
  },
  {
   "cell_type": "markdown",
   "metadata": {},
   "source": [
    "#### Tuples ()\n",
    "Sequence of values (which can be of mixed types) which are immutable(can't change it), written within parantheses"
   ]
  },
  {
   "cell_type": "code",
   "execution_count": null,
   "metadata": {},
   "outputs": [],
   "source": [
    "tuple1=('a','b','c','d','e','f','g','h',1,2,3,4,5,6,7,8,9,10)"
   ]
  },
  {
   "cell_type": "markdown",
   "metadata": {},
   "source": [
    "To access the elements, use the indices (starting from zero)"
   ]
  },
  {
   "cell_type": "code",
   "execution_count": null,
   "metadata": {},
   "outputs": [],
   "source": [
    "tuple1[0]"
   ]
  },
  {
   "cell_type": "markdown",
   "metadata": {},
   "source": [
    "A very useful trick is index slicing, where you can access a subset of the tuple. This works as follows:"
   ]
  },
  {
   "cell_type": "code",
   "execution_count": null,
   "metadata": {},
   "outputs": [],
   "source": [
    "tuple1[4:9] # [inclusive:exclusive]"
   ]
  },
  {
   "cell_type": "markdown",
   "metadata": {},
   "source": [
    "The full syntax for index slicing is \\[inclusive_start:exclusive_end:step_size\\], so you can get something like"
   ]
  },
  {
   "cell_type": "code",
   "execution_count": null,
   "metadata": {},
   "outputs": [],
   "source": [
    "tuple1[2:15:2]"
   ]
  },
  {
   "cell_type": "markdown",
   "metadata": {},
   "source": [
    "If you leave inclusive_start or exclusive_end blank, then that is saying slice from the beginning, or till the end respectively"
   ]
  },
  {
   "cell_type": "code",
   "execution_count": null,
   "metadata": {},
   "outputs": [],
   "source": [
    "tuple1[:12:2]"
   ]
  },
  {
   "cell_type": "code",
   "execution_count": null,
   "metadata": {},
   "outputs": [],
   "source": [
    "tuple1[5::3]"
   ]
  },
  {
   "cell_type": "markdown",
   "metadata": {},
   "source": [
    "Count backwards using negative indices"
   ]
  },
  {
   "cell_type": "code",
   "execution_count": null,
   "metadata": {},
   "outputs": [],
   "source": [
    "tuple1[-2]"
   ]
  },
  {
   "cell_type": "markdown",
   "metadata": {},
   "source": [
    "Index slicing works with negative indices too!"
   ]
  },
  {
   "cell_type": "markdown",
   "metadata": {},
   "source": [
    "#### Lists []\n",
    "Lists are mutable. Otherwise, they have similar properties to a tuple"
   ]
  },
  {
   "cell_type": "code",
   "execution_count": null,
   "metadata": {},
   "outputs": [],
   "source": [
    "nested_list=[[1,2,3],['a','b','c'],['astro','cosmo','gravity']] # You can also have nested tuples!"
   ]
  },
  {
   "cell_type": "markdown",
   "metadata": {},
   "source": [
    "Nested lists are essentially [lists within lists](https://en.wikipedia.org/wiki/Inception). Nested lists will feature a good deal in our tutorials later, so this is important. \n",
    "\n",
    "Nested lists (or tuples) have more than one index, which can be used as follows:"
   ]
  },
  {
   "cell_type": "code",
   "execution_count": null,
   "metadata": {},
   "outputs": [],
   "source": [
    "nested_list[1][:] # Play around with this!"
   ]
  },
  {
   "cell_type": "markdown",
   "metadata": {},
   "source": [
    "With a list, you can change entries, append new ones, or delete some"
   ]
  },
  {
   "cell_type": "code",
   "execution_count": null,
   "metadata": {},
   "outputs": [],
   "source": [
    "my_list=['astro',1,2,3,'cosmo']\n",
    "my_list[1]=3.26\n",
    "print(my_list)"
   ]
  },
  {
   "cell_type": "code",
   "execution_count": null,
   "metadata": {},
   "outputs": [],
   "source": [
    "my_list.append(['gravity','relativity']) # This will be important later!\n",
    "print(my_list)"
   ]
  },
  {
   "cell_type": "code",
   "execution_count": null,
   "metadata": {},
   "outputs": [],
   "source": [
    "del my_list[1:4]\n",
    "print(my_list)"
   ]
  },
  {
   "cell_type": "code",
   "execution_count": null,
   "metadata": {},
   "outputs": [],
   "source": [
    "my_list.remove('cosmo')\n",
    "print(my_list)"
   ]
  },
  {
   "cell_type": "markdown",
   "metadata": {},
   "source": [
    "One more function, which works on any kind of collection data type (tuples, list, dictionaries ...) is `len`, which gives the length."
   ]
  },
  {
   "cell_type": "code",
   "execution_count": null,
   "metadata": {},
   "outputs": [],
   "source": [
    "print(len(my_list)) # Note that the list inside the list is counted as one element."
   ]
  },
  {
   "cell_type": "markdown",
   "metadata": {},
   "source": [
    "There are a lot of operations on lists. One resource you can use to find out more is [this](https://www.geeksforgeeks.org/python-list/). Again, Google is your best friend!"
   ]
  },
  {
   "cell_type": "markdown",
   "metadata": {},
   "source": [
    "#### A note on Strings"
   ]
  },
  {
   "cell_type": "markdown",
   "metadata": {},
   "source": [
    "We have seen strings before. They are, in a way, similar to tuples, where you can access each individual element (in this case the characters of the strings) using the indices; you can also use index slicing. "
   ]
  },
  {
   "cell_type": "code",
   "execution_count": null,
   "metadata": {},
   "outputs": [],
   "source": [
    "my_string = \"Krittika: The Astronomy Club of IITB\""
   ]
  },
  {
   "cell_type": "code",
   "execution_count": null,
   "metadata": {},
   "outputs": [],
   "source": [
    "# Try to get any substring that you want using index slicing\n",
    "print(my_string[...])"
   ]
  },
  {
   "cell_type": "markdown",
   "metadata": {},
   "source": [
    "There are also a few operations on strings, which we will list down below. You are not expected to memorize them. It takes time and experience in coding to be able to remember them, and even then you will still find yourself having to look up things. That is completely fine. \n",
    "\n",
    "You can find a whole list of these in the official Python documentation (https://docs.python.org/3.6/library/string.html)"
   ]
  },
  {
   "cell_type": "code",
   "execution_count": null,
   "metadata": {},
   "outputs": [],
   "source": [
    "print(my_string.split())"
   ]
  },
  {
   "cell_type": "code",
   "execution_count": null,
   "metadata": {},
   "outputs": [],
   "source": [
    "print(my_string.split(':')) #Try putting in another character or a string and see how the output changes"
   ]
  },
  {
   "cell_type": "code",
   "execution_count": null,
   "metadata": {},
   "outputs": [],
   "source": [
    "string_with_spaces = \"   Why are there spaces here?   \" # Let's get rid of those spaces in 2 ways"
   ]
  },
  {
   "cell_type": "code",
   "execution_count": null,
   "metadata": {},
   "outputs": [],
   "source": [
    "# Split using white space:\n",
    "list_of_words = string_with_spaces.split()\n",
    "print(list_of_words)"
   ]
  },
  {
   "cell_type": "code",
   "execution_count": null,
   "metadata": {},
   "outputs": [],
   "source": [
    "# Make a string, by joining the items of the list\n",
    "string_without_spaces = ' '.join(list_of_words) # what happens if you use '&' instead of ' '?\n",
    "string_without_spaces"
   ]
  },
  {
   "cell_type": "code",
   "execution_count": null,
   "metadata": {},
   "outputs": [],
   "source": [
    "# or, you can just use another function\n",
    "string_with_spaces.strip() # What if you use something like string.split(<some_string>)? It will remove that from the beginning and ending!"
   ]
  },
  {
   "cell_type": "markdown",
   "metadata": {},
   "source": [
    "#### Dictionaries {}\n",
    "Instead of indexing by strictly numbers from 0 to `len`-1, we can index a _value_ with any _key_ as long as the _key_ is immutable (can be a tuple)."
   ]
  },
  {
   "cell_type": "code",
   "execution_count": null,
   "metadata": {},
   "outputs": [],
   "source": [
    "my_dictionary = {'Phobos':'Mars', 'Ganymede':'Jupiter', 'Titan':'Saturn', 'Titania':'Uranus', 'Triton':'Neptune'}"
   ]
  },
  {
   "cell_type": "code",
   "execution_count": null,
   "metadata": {},
   "outputs": [],
   "source": [
    "moon = 'Phobos'\n",
    "print(f'The largest moon of {my_dictionary[moon]} is {moon}')"
   ]
  },
  {
   "cell_type": "markdown",
   "metadata": {},
   "source": [
    "\n",
    "\n",
    "There are of course, a lot more to know about each of these. But this will be sufficient for this tutorial. With practice and experience, you will learn more and more about lists, tuples, dictionaries and sets(wait, what's that?)"
   ]
  },
  {
   "cell_type": "markdown",
   "metadata": {},
   "source": [
    "### Conditionals in Python"
   ]
  },
  {
   "cell_type": "markdown",
   "metadata": {},
   "source": [
    "Control flow statements like loops and conditionals have blocks indicated by indentation. Any number of whitespaces is syntactically correct as long as it is consistent within a block.\n",
    "\n",
    "The `if...elif...if` statement can be used to run different blocks based on truth values of boolean expressions.\n",
    "\n",
    "Wooo. Those were all certainly words. What this means is this:\n",
    "1. You can choose to run certain statements based on whether some condition is satisfied or not: conditionals\n",
    "2. You can run the same set of statements (perhaps with some changes) several times (this is called iteration): loops (imaginative names, I know)"
   ]
  },
  {
   "cell_type": "markdown",
   "metadata": {},
   "source": [
    "Play around with these cells and see for yourself how this will work. "
   ]
  },
  {
   "cell_type": "code",
   "execution_count": null,
   "metadata": {},
   "outputs": [],
   "source": [
    "a=5\n",
    "if a<5:\n",
    "    print(\"i am in the if block\")\n",
    "    print(a,\"is less than 5\")\n",
    "elif a==5:\n",
    "    print(\"i am in the elif block\")\n",
    "    print(a, \"is equal to 5\")\n",
    "else:\n",
    "    print(\"i am in the else block\")\n",
    "    print(a, \"i more than 5\")\n"
   ]
  },
  {
   "cell_type": "code",
   "execution_count": null,
   "metadata": {},
   "outputs": [],
   "source": [
    "b=8\n",
    "if  7 < b < 9:\n",
    "    print(\"b is between 7 and 9\")\n",
    "elif b < 7:\n",
    "    print(\"b is smaller than 7\")\n",
    "else:\n",
    "    print(\"b is greater than 9\")"
   ]
  },
  {
   "cell_type": "markdown",
   "metadata": {},
   "source": [
    "Logical operations `and`, `or`, and `not` can also be used"
   ]
  },
  {
   "cell_type": "code",
   "execution_count": null,
   "metadata": {},
   "outputs": [],
   "source": [
    "a=True\n",
    "b=False\n",
    "print(a and b)"
   ]
  },
  {
   "cell_type": "code",
   "execution_count": null,
   "metadata": {},
   "outputs": [],
   "source": [
    "# Try to use a logical operation in an if..elif..else statement. Find if a given value c is less than 0, \n",
    "# greater than 10, or in between the two\n",
    "\n",
    "..."
   ]
  },
  {
   "cell_type": "markdown",
   "metadata": {},
   "source": [
    "### Loops\n",
    "There are two types of loops: `for` and `while`. \n",
    "\n",
    "The usage is very straightforward, but there are nuances to both of these that we will explore in detail later."
   ]
  },
  {
   "cell_type": "code",
   "execution_count": null,
   "metadata": {},
   "outputs": [],
   "source": [
    "for i in [1,2,3,4]:\n",
    "    print(i)"
   ]
  },
  {
   "cell_type": "code",
   "execution_count": null,
   "metadata": {},
   "outputs": [],
   "source": [
    "for i in range(0,10,2): # range gives you a range of numbers! range(inclusive_start, exclusive_end, step). Seems familiar?\n",
    "    print(i, end=' ') # Foreshadowing, you can change the default behaviour of print to add a newline."
   ]
  },
  {
   "cell_type": "code",
   "execution_count": null,
   "metadata": {},
   "outputs": [],
   "source": [
    "my_iter=5\n",
    "while my_iter > 0:\n",
    "    print(my_iter**2, end=' ')\n",
    "    my_iter-=1"
   ]
  },
  {
   "cell_type": "markdown",
   "metadata": {},
   "source": [
    "### Parsing a file for data\n",
    "This is perhaps one of the more important parts in this tutorial, which will enable you to start working with actual data. In the file `Moons_and_planets.csv`, we can find the names of the moons of each planet as well as the planet they orbit (yes, we know we included Pluto. Cut it some slack!)\n",
    "\n",
    "The data has been taken from https://en.wikipedia.org/wiki/List_of_natural_satellites. This employs something called web scraping, which we will have a look at later. "
   ]
  },
  {
   "cell_type": "markdown",
   "metadata": {},
   "source": [
    "You are encouraged to play around with this set of code. Try removing some of the functions and seeing why they have been used (remove the `split('\\n')` in the next cell and see why it is necessary)"
   ]
  },
  {
   "cell_type": "code",
   "execution_count": null,
   "metadata": {},
   "outputs": [],
   "source": [
    "with open('Moons_and_planets.csv', 'r') as f:\n",
    "    lines = f.read().split('\\n') # split each line"
   ]
  },
  {
   "cell_type": "code",
   "execution_count": null,
   "metadata": {},
   "outputs": [],
   "source": [
    "print(lines[:5])"
   ]
  },
  {
   "cell_type": "code",
   "execution_count": null,
   "metadata": {},
   "outputs": [],
   "source": [
    "data_moons = [] # Define an empty list. We will append our values to this\n",
    "for line in lines:\n",
    "    data_moons.append(line.split(',')) # split each element"
   ]
  },
  {
   "cell_type": "code",
   "execution_count": null,
   "metadata": {},
   "outputs": [],
   "source": [
    "data_moons[:5]"
   ]
  },
  {
   "cell_type": "markdown",
   "metadata": {},
   "source": [
    "As you can see, this is not perfect; the diameter of the moons has been appended as a `string`, instead of a `float`. <br>\n",
    "Fixing this is up to you! (*hint*: you can convert a string to a float using `float(<string>)`)\n",
    "\n",
    "You will have to use a loop to access each row (nested loops here), and use indexing to access the elements you want."
   ]
  },
  {
   "cell_type": "markdown",
   "metadata": {},
   "source": [
    "### Your assignment...\n",
    "...should you choose to accept it, will be the following:\n",
    "1. Find the number of moons of each planet\n",
    "2. Order the moons (along with their planets) according to their sizes"
   ]
  },
  {
   "cell_type": "markdown",
   "metadata": {},
   "source": [
    "Try to verify these from the Wikipedia link that we took the data from. "
   ]
  }
 ],
 "metadata": {
  "kernelspec": {
   "display_name": "Python 3",
   "language": "python",
   "name": "python3"
  },
  "language_info": {
   "codemirror_mode": {
    "name": "ipython",
    "version": 3
   },
   "file_extension": ".py",
   "mimetype": "text/x-python",
   "name": "python",
   "nbconvert_exporter": "python",
   "pygments_lexer": "ipython3",
   "version": "3.6.9"
  }
 },
 "nbformat": 4,
 "nbformat_minor": 2
}
